{
 "cells": [
  {
   "cell_type": "markdown",
   "id": "4142c02d",
   "metadata": {},
   "source": [
    "# Exemple de construction d'un model de <u> reconaissance de chiffre </u>"
   ]
  },
  {
   "cell_type": "markdown",
   "id": "d2c142db",
   "metadata": {},
   "source": [
    "## Importation de les laibrairies"
   ]
  },
  {
   "cell_type": "code",
   "execution_count": 1,
   "id": "d10b8bd4",
   "metadata": {},
   "outputs": [],
   "source": [
    "from sklearn.datasets import fetch_openml\n",
    "import numpy as np\n",
    "import matplotlib.pyplot as plt"
   ]
  },
  {
   "cell_type": "markdown",
   "id": "888c0492",
   "metadata": {},
   "source": [
    "## Télécharger une dataset qui contient 70.000 image (28x28)"
   ]
  },
  {
   "cell_type": "code",
   "execution_count": null,
   "id": "f1bc1b48",
   "metadata": {},
   "outputs": [],
   "source": [
    "mnist = fetch_openml('mnist_784', version=1)"
   ]
  },
  {
   "cell_type": "markdown",
   "id": "82cebce2",
   "metadata": {},
   "source": [
    "### Bien Virifier la taille "
   ]
  },
  {
   "cell_type": "code",
   "execution_count": null,
   "id": "a9649b45",
   "metadata": {},
   "outputs": [],
   "source": [
    "# Le dataset principal qui contient toutes les images\n",
    "print (mnist.data.shape)\n",
    "# Le vecteur d'annotations associé au dataset (nombre entre 0 et 9)\n",
    "print (mnist.target.shape)"
   ]
  },
  {
   "cell_type": "markdown",
   "id": "327cd298",
   "metadata": {},
   "source": [
    "### Échantillonner"
   ]
  },
  {
   "cell_type": "code",
   "execution_count": null,
   "id": "0040ced1",
   "metadata": {},
   "outputs": [],
   "source": [
    "sample = np.random.randint(70000, size=5000)\n",
    "data = mnist.data.values[sample]\n",
    "target = mnist.target.values[sample]"
   ]
  },
  {
   "cell_type": "markdown",
   "id": "12bd05cf",
   "metadata": {},
   "source": [
    "### Séparez training / testing set"
   ]
  },
  {
   "cell_type": "code",
   "execution_count": null,
   "id": "e061dee4",
   "metadata": {},
   "outputs": [],
   "source": [
    "from sklearn.model_selection import train_test_split\n",
    "xtrain, xtest, ytrain, ytest = train_test_split(data, target, train_size=0.8)"
   ]
  },
  {
   "cell_type": "markdown",
   "id": "59c28037",
   "metadata": {},
   "source": [
    "## KNN"
   ]
  },
  {
   "cell_type": "markdown",
   "id": "da71bca0",
   "metadata": {},
   "source": [
    "### Pour k=3, La model va s'entrainer sur l'échantillion d'apprentissage"
   ]
  },
  {
   "cell_type": "code",
   "execution_count": null,
   "id": "e2540124",
   "metadata": {},
   "outputs": [],
   "source": [
    "from sklearn import neighbors\n",
    "\n",
    "knn = neighbors.KNeighborsClassifier(n_neighbors=3)\n",
    "knn.fit(xtrain, ytrain)"
   ]
  },
  {
   "cell_type": "markdown",
   "id": "e2f3b627",
   "metadata": {},
   "source": [
    "### On va vérifier le model avec l'échantillion de test"
   ]
  },
  {
   "cell_type": "code",
   "execution_count": null,
   "id": "012e9f11",
   "metadata": {},
   "outputs": [],
   "source": [
    "error = 1 - knn.score(xtest, ytest)\n",
    "print('Erreur: %f' % error)"
   ]
  },
  {
   "cell_type": "markdown",
   "id": "de31d3ba",
   "metadata": {},
   "source": [
    "## Améliorer le model pour optimiser le score sur les données test"
   ]
  },
  {
   "cell_type": "markdown",
   "id": "441f602b",
   "metadata": {},
   "source": [
    "### Chercher k optimal"
   ]
  },
  {
   "cell_type": "code",
   "execution_count": null,
   "id": "789c06a7",
   "metadata": {},
   "outputs": [],
   "source": [
    "errors = []\n",
    "for k in range(2,15):\n",
    "    knn = neighbors.KNeighborsClassifier(k)\n",
    "    errors.append(100*(1 - knn.fit(xtrain, ytrain).score(xtest, ytest)))\n",
    "plt.plot(range(2,15), errors, 'o-')\n",
    "plt.show()"
   ]
  },
  {
   "cell_type": "markdown",
   "id": "2228ff58",
   "metadata": {},
   "source": [
    "### Voir les donnée bien prédit"
   ]
  },
  {
   "cell_type": "code",
   "execution_count": null,
   "id": "0fb843a3",
   "metadata": {},
   "outputs": [],
   "source": [
    "# On récupère le classifieur le plus performant\n",
    "knn = neighbors.KNeighborsClassifier(5)\n",
    "knn.fit(xtrain, ytrain)\n",
    "\n",
    "# On récupère les prédictions sur les données test\n",
    "predicted = knn.predict(xtest)\n",
    "\n",
    "# On redimensionne les données sous forme d'images\n",
    "images = xtest.reshape((-1, 28, 28))\n",
    "\n",
    "# On selectionne un echantillon de 12 images au hasard\n",
    "select = np.random.randint(images.shape[0], size=12)\n",
    "\n",
    "# On affiche les images avec la prédiction associée\n",
    "fig,ax = plt.subplots(3,4)\n",
    "for index, value in enumerate(select):\n",
    "    plt.subplot(3,4,index+1)\n",
    "    plt.axis('off')\n",
    "    plt.imshow(images[value],cmap=plt.cm.gray_r,interpolation=\"nearest\")\n",
    "    plt.title('Predicted: {}'.format( predicted[value]) )\n",
    "\n",
    "plt.show()"
   ]
  },
  {
   "cell_type": "markdown",
   "id": "137069ae",
   "metadata": {},
   "source": [
    "### Voir les données mal prédit"
   ]
  },
  {
   "cell_type": "code",
   "execution_count": null,
   "id": "261239bf",
   "metadata": {},
   "outputs": [],
   "source": [
    "# on récupère les données mal prédites\n",
    "misclass = (ytest != predicted)\n",
    "misclass_images = images[misclass,:,:]\n",
    "misclass_predicted = predicted[misclass]\n",
    "\n",
    "# on sélectionne un échantillon de ces images\n",
    "select = np.random.randint(misclass_images.shape[0], size=12)\n",
    "\n",
    "# on affiche les images et les prédictions (erronées) associées à ces images\n",
    "for index, value in enumerate(select):\n",
    "    plt.subplot(3,4,index+1)\n",
    "    plt.axis('off')\n",
    "    plt.imshow(misclass_images[value],cmap=plt.cm.gray_r,interpolation=\"nearest\")\n",
    "    plt.title('Predicted: {}'.format(misclass_predicted[value]) )\n",
    "\n",
    "plt.show()"
   ]
  },
  {
   "cell_type": "code",
   "execution_count": null,
   "id": "1811867f",
   "metadata": {},
   "outputs": [],
   "source": []
  }
 ],
 "metadata": {
  "kernelspec": {
   "display_name": "Python 3 (ipykernel)",
   "language": "python",
   "name": "python3"
  },
  "language_info": {
   "codemirror_mode": {
    "name": "ipython",
    "version": 3
   },
   "file_extension": ".py",
   "mimetype": "text/x-python",
   "name": "python",
   "nbconvert_exporter": "python",
   "pygments_lexer": "ipython3",
   "version": "3.9.7"
  }
 },
 "nbformat": 4,
 "nbformat_minor": 5
}
